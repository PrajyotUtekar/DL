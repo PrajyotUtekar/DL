{
 "cells": [
  {
   "cell_type": "code",
   "execution_count": 1,
   "id": "b40e9532",
   "metadata": {},
   "outputs": [
    {
     "name": "stderr",
     "output_type": "stream",
     "text": [
      "C:\\ProgramData\\Anaconda3\\lib\\site-packages\\scipy\\__init__.py:155: UserWarning: A NumPy version >=1.18.5 and <1.25.0 is required for this version of SciPy (detected version 1.26.1\n",
      "  warnings.warn(f\"A NumPy version >={np_minversion} and <{np_maxversion}\"\n"
     ]
    }
   ],
   "source": [
    "import pandas as pd\n",
    "import numpy as np\n",
    "import tensorflow as tf\n",
    "import matplotlib.pyplot as plt\n",
    "import seaborn as sns\n",
    "from sklearn.model_selection import train_test_split\n",
    "from sklearn.preprocessing import StandardScaler\n",
    "from sklearn.metrics import confusion_matrix, recall_score, accuracy_score, precision_score\n",
    "\n"
   ]
  },
  {
   "cell_type": "code",
   "execution_count": 2,
   "id": "326f63c4",
   "metadata": {},
   "outputs": [],
   "source": [
    "# Define constants\n",
    "RANDOM_SEED = 2021\n",
    "TEST_PCT = 0.3\n",
    "LABELS = [\"Normal\", \"Fraud\"]"
   ]
  },
  {
   "cell_type": "code",
   "execution_count": 6,
   "id": "ee8ae3b6",
   "metadata": {},
   "outputs": [],
   "source": [
    "# Load the dataset\n",
    "dataset = pd.read_csv(\"C:/Users/lang lab/Downloads/archive (18)creditcard.csv\")"
   ]
  },
  {
   "cell_type": "code",
   "execution_count": 7,
   "id": "dbff19f3",
   "metadata": {},
   "outputs": [
    {
     "name": "stdout",
     "output_type": "stream",
     "text": [
      "Any nulls in the dataset: False\n"
     ]
    }
   ],
   "source": [
    "# Check for any null values\n",
    "print(\"Any nulls in the dataset:\", dataset.isnull().values.any())"
   ]
  },
  {
   "cell_type": "code",
   "execution_count": 8,
   "id": "b5d565a7",
   "metadata": {},
   "outputs": [
    {
     "name": "stdout",
     "output_type": "stream",
     "text": [
      "Number of unique labels: 2\n",
      "Label values: [0 1]\n"
     ]
    }
   ],
   "source": [
    "# Display unique labels\n",
    "print(\"Number of unique labels:\", len(dataset['Class'].unique()))\n",
    "print(\"Label values:\", dataset.Class.unique())\n"
   ]
  },
  {
   "cell_type": "code",
   "execution_count": 9,
   "id": "0866ae05",
   "metadata": {},
   "outputs": [
    {
     "name": "stdout",
     "output_type": "stream",
     "text": [
      "Breakdown of Normal and Fraud Transactions:\n",
      "0    284315\n",
      "1       492\n",
      "Name: Class, dtype: int64\n"
     ]
    }
   ],
   "source": [
    "# Visualize the imbalance in the dataset\n",
    "print(\"Breakdown of Normal and Fraud Transactions:\")\n",
    "print(pd.value_counts(dataset['Class'], sort=True))"
   ]
  },
  {
   "cell_type": "code",
   "execution_count": 13,
   "id": "50c35c1b",
   "metadata": {},
   "outputs": [],
   "source": [
    "# Normalize Time and Amount columns\n",
    "sc = StandardScaler()\n",
    "dataset['Time'] = sc.fit_transform(dataset['Time'].values.reshape(-1, 1))\n",
    "dataset['Amount'] = sc.fit_transform(dataset['Amount'].values.reshape(-1, 1))\n",
    "\n",
    "raw_data = dataset.values"
   ]
  },
  {
   "cell_type": "code",
   "execution_count": 14,
   "id": "95e2c72d",
   "metadata": {},
   "outputs": [],
   "source": [
    "raw_data = dataset.values"
   ]
  },
  {
   "cell_type": "code",
   "execution_count": 15,
   "id": "e730b08b",
   "metadata": {},
   "outputs": [],
   "source": [
    "# The last element contains if the transaction is normal (0) or fraud (1)\n",
    "labels = raw_data[:, -1]"
   ]
  },
  {
   "cell_type": "code",
   "execution_count": 16,
   "id": "d65c8643",
   "metadata": {},
   "outputs": [],
   "source": [
    "# The other data points are the electrocardiogram data\n",
    "data = raw_data[:, 0:-1]"
   ]
  },
  {
   "cell_type": "code",
   "execution_count": 17,
   "id": "531c5cf2",
   "metadata": {},
   "outputs": [],
   "source": [
    "# Split the data into training and test sets\n",
    "train_data, test_data, train_labels, test_labels = train_test_split(data, labels, test_size=0.2, random_state=2021)\n"
   ]
  },
  {
   "cell_type": "code",
   "execution_count": 18,
   "id": "1f97a85a",
   "metadata": {},
   "outputs": [],
   "source": [
    "# Normalize the data to the range [0, 1]\n",
    "min_val = tf.reduce_min(train_data)\n",
    "max_val = tf.reduce_max(train_data)\n",
    "train_data = (train_data - min_val) / (max_val - min_val)\n",
    "test_data = (test_data - min_val) / (max_val - min_val)\n"
   ]
  },
  {
   "cell_type": "code",
   "execution_count": 19,
   "id": "71b2d284",
   "metadata": {},
   "outputs": [],
   "source": [
    "# Cast data to float32\n",
    "train_data = tf.cast(train_data, tf.float32)\n",
    "test_data = tf.cast(test_data, tf.float32)\n",
    "\n",
    "# Create boolean labels for normal and fraud\n",
    "train_labels = train_labels.astype(bool)\n",
    "test_labels = test_labels.astype(bool)"
   ]
  },
  {
   "cell_type": "code",
   "execution_count": 20,
   "id": "4f18112f",
   "metadata": {},
   "outputs": [
    {
     "name": "stdout",
     "output_type": "stream",
     "text": [
      "No. of records in Fraud Train Data = 389\n",
      "No. of records in Normal Train Data = 227456\n",
      "No. of records in Fraud Test Data = 103\n",
      "No. of records in Normal Test Data = 56859\n"
     ]
    }
   ],
   "source": [
    "\n",
    "# Create datasets for normal and fraud records\n",
    "normal_train_data = train_data[~train_labels]\n",
    "normal_test_data = test_data[~test_labels]\n",
    "fraud_train_data = train_data[train_labels]\n",
    "fraud_test_data = test_data[test_labels]\n",
    "\n",
    "print(\"No. of records in Fraud Train Data =\", len(fraud_train_data))\n",
    "print(\"No. of records in Normal Train Data =\", len(normal_train_data))\n",
    "print(\"No. of records in Fraud Test Data =\", len(fraud_test_data))\n",
    "print(\"No. of records in Normal Test Data =\", len(normal_test_data))"
   ]
  },
  {
   "cell_type": "code",
   "execution_count": 21,
   "id": "bfede801",
   "metadata": {},
   "outputs": [],
   "source": [
    "nb_epoch = 50\n",
    "batch_size = 64\n",
    "input_dim = normal_train_data.shape[1]\n",
    "encoding_dim = 14\n",
    "hidden_dim1 = int(encoding_dim / 2)\n",
    "hidden_dim2 = 4\n",
    "learning_rate = 1e-7\n",
    "\n",
    "# Define the input layer\n",
    "input_layer = tf.keras.layers.Input(shape=(input_dim,))\n",
    "\n",
    "# Encoder layers\n",
    "encoder = tf.keras.layers.Dense(encoding_dim, activation=\"tanh\", activity_regularizer=tf.keras.regularizers.l2(learning_rate))(input_layer)\n",
    "encoder = tf.keras.layers.Dropout(0.2)(encoder)\n",
    "encoder = tf.keras.layers.Dense(hidden_dim1, activation='relu')(encoder)\n",
    "encoder = tf.keras.layers.Dense(hidden_dim2, activation=tf.nn.leaky_relu)(encoder)\n"
   ]
  },
  {
   "cell_type": "code",
   "execution_count": 22,
   "id": "508e4f39",
   "metadata": {},
   "outputs": [
    {
     "name": "stdout",
     "output_type": "stream",
     "text": [
      "Model: \"model\"\n",
      "_________________________________________________________________\n",
      " Layer (type)                Output Shape              Param #   \n",
      "=================================================================\n",
      " input_1 (InputLayer)        [(None, 30)]              0         \n",
      "                                                                 \n",
      " dense (Dense)               (None, 14)                434       \n",
      "                                                                 \n",
      " dropout (Dropout)           (None, 14)                0         \n",
      "                                                                 \n",
      " dense_1 (Dense)             (None, 7)                 105       \n",
      "                                                                 \n",
      " dense_2 (Dense)             (None, 4)                 32        \n",
      "                                                                 \n",
      " dense_3 (Dense)             (None, 7)                 35        \n",
      "                                                                 \n",
      " dropout_1 (Dropout)         (None, 7)                 0         \n",
      "                                                                 \n",
      " dense_4 (Dense)             (None, 14)                112       \n",
      "                                                                 \n",
      " dense_5 (Dense)             (None, 30)                450       \n",
      "                                                                 \n",
      "=================================================================\n",
      "Total params: 1168 (4.56 KB)\n",
      "Trainable params: 1168 (4.56 KB)\n",
      "Non-trainable params: 0 (0.00 Byte)\n",
      "_________________________________________________________________\n"
     ]
    }
   ],
   "source": [
    "# Decoder layers\n",
    "decoder = tf.keras.layers.Dense(hidden_dim1, activation='relu')(encoder)\n",
    "decoder = tf.keras.layers.Dropout(0.2)(decoder)\n",
    "decoder = tf.keras.layers.Dense(encoding_dim, activation='relu')(decoder)\n",
    "decoder = tf.keras.layers.Dense(input_dim, activation='tanh')(decoder)\n",
    "\n",
    "# Autoencoder model\n",
    "autoencoder = tf.keras.Model(inputs=input_layer, outputs=decoder)\n",
    "\n",
    "autoencoder.summary()\n"
   ]
  },
  {
   "cell_type": "code",
   "execution_count": 23,
   "id": "b958eba7",
   "metadata": {},
   "outputs": [],
   "source": [
    "# Model checkpoint\n",
    "cp = tf.keras.callbacks.ModelCheckpoint(\n",
    "    filepath=\"autoencoder_fraud.h5\",\n",
    "    mode='min',\n",
    "    monitor='val_loss',\n",
    "    verbose=2,\n",
    "    save_best_only=True\n",
    ")\n"
   ]
  },
  {
   "cell_type": "code",
   "execution_count": 24,
   "id": "b6a36934",
   "metadata": {},
   "outputs": [],
   "source": [
    "# Early stopping\n",
    "early_stop = tf.keras.callbacks.EarlyStopping(\n",
    "    monitor='val_loss',\n",
    "    min_delta=0.0001,\n",
    "    patience=10,\n",
    "    verbose=11,\n",
    "    mode='min',\n",
    "    restore_best_weights=True\n",
    ")\n"
   ]
  },
  {
   "cell_type": "code",
   "execution_count": 25,
   "id": "06db31d4",
   "metadata": {},
   "outputs": [
    {
     "name": "stdout",
     "output_type": "stream",
     "text": [
      "Epoch 1/50\n",
      "3502/3554 [============================>.] - ETA: 0s - loss: 0.0032 - accuracy: 0.0384\n",
      "Epoch 1: val_loss improved from inf to 0.00002, saving model to autoencoder_fraud.h5\n",
      "3554/3554 [==============================] - 4s 1ms/step - loss: 0.0032 - accuracy: 0.0385 - val_loss: 1.9861e-05 - val_accuracy: 0.0472\n",
      "Epoch 2/50\n",
      " 136/3554 [>.............................] - ETA: 2s - loss: 2.0049e-05 - accuracy: 0.0368"
     ]
    },
    {
     "name": "stderr",
     "output_type": "stream",
     "text": [
      "C:\\Users\\lang lab\\AppData\\Roaming\\Python\\Python39\\site-packages\\keras\\src\\engine\\training.py:3079: UserWarning: You are saving your model as an HDF5 file via `model.save()`. This file format is considered legacy. We recommend using instead the native Keras format, e.g. `model.save('my_model.keras')`.\n",
      "  saving_api.save_model(\n"
     ]
    },
    {
     "name": "stdout",
     "output_type": "stream",
     "text": [
      "3513/3554 [============================>.] - ETA: 0s - loss: 1.9336e-05 - accuracy: 0.0597\n",
      "Epoch 2: val_loss did not improve from 0.00002\n",
      "3554/3554 [==============================] - 4s 1ms/step - loss: 1.9334e-05 - accuracy: 0.0594 - val_loss: 1.9866e-05 - val_accuracy: 0.0363\n",
      "Epoch 3/50\n",
      "3522/3554 [============================>.] - ETA: 0s - loss: 1.9430e-05 - accuracy: 0.0644\n",
      "Epoch 3: val_loss did not improve from 0.00002\n",
      "3554/3554 [==============================] - 4s 1000us/step - loss: 1.9412e-05 - accuracy: 0.0645 - val_loss: 1.9931e-05 - val_accuracy: 0.0699\n",
      "Epoch 4/50\n",
      "3542/3554 [============================>.] - ETA: 0s - loss: 1.9367e-05 - accuracy: 0.0679\n",
      "Epoch 4: val_loss did not improve from 0.00002\n",
      "3554/3554 [==============================] - 4s 1ms/step - loss: 1.9366e-05 - accuracy: 0.0680 - val_loss: 2.0029e-05 - val_accuracy: 0.2168\n",
      "Epoch 5/50\n",
      "3552/3554 [============================>.] - ETA: 0s - loss: 1.9544e-05 - accuracy: 0.0585\n",
      "Epoch 5: val_loss did not improve from 0.00002\n",
      "3554/3554 [==============================] - 4s 992us/step - loss: 1.9545e-05 - accuracy: 0.0585 - val_loss: 1.9970e-05 - val_accuracy: 0.0111\n",
      "Epoch 6/50\n",
      "3529/3554 [============================>.] - ETA: 0s - loss: 1.9564e-05 - accuracy: 0.0609\n",
      "Epoch 6: val_loss did not improve from 0.00002\n",
      "3554/3554 [==============================] - 4s 1ms/step - loss: 1.9567e-05 - accuracy: 0.0608 - val_loss: 2.0161e-05 - val_accuracy: 0.0269\n",
      "Epoch 7/50\n",
      "3550/3554 [============================>.] - ETA: 0s - loss: 1.9480e-05 - accuracy: 0.0636\n",
      "Epoch 7: val_loss did not improve from 0.00002\n",
      "3554/3554 [==============================] - 4s 997us/step - loss: 1.9488e-05 - accuracy: 0.0636 - val_loss: 2.0233e-05 - val_accuracy: 0.0214\n",
      "Epoch 8/50\n",
      "3530/3554 [============================>.] - ETA: 0s - loss: 1.9441e-05 - accuracy: 0.0651\n",
      "Epoch 8: val_loss improved from 0.00002 to 0.00002, saving model to autoencoder_fraud.h5\n",
      "3554/3554 [==============================] - 4s 995us/step - loss: 1.9434e-05 - accuracy: 0.0653 - val_loss: 1.9275e-05 - val_accuracy: 0.0360\n",
      "Epoch 9/50\n",
      "3524/3554 [============================>.] - ETA: 0s - loss: 1.9411e-05 - accuracy: 0.0592\n",
      "Epoch 9: val_loss did not improve from 0.00002\n",
      "3554/3554 [==============================] - 4s 1ms/step - loss: 1.9407e-05 - accuracy: 0.0592 - val_loss: 2.0160e-05 - val_accuracy: 0.0269\n",
      "Epoch 10/50\n",
      "3548/3554 [============================>.] - ETA: 0s - loss: 1.9493e-05 - accuracy: 0.0620\n",
      "Epoch 10: val_loss did not improve from 0.00002\n",
      "3554/3554 [==============================] - 4s 991us/step - loss: 1.9486e-05 - accuracy: 0.0620 - val_loss: 2.0330e-05 - val_accuracy: 0.0263\n",
      "Epoch 11/50\n",
      "3505/3554 [============================>.] - ETA: 0s - loss: 1.9312e-05 - accuracy: 0.0624\n",
      "Epoch 11: val_loss did not improve from 0.00002\n",
      "Restoring model weights from the end of the best epoch: 1.\n",
      "3554/3554 [==============================] - 4s 998us/step - loss: 1.9301e-05 - accuracy: 0.0626 - val_loss: 2.0097e-05 - val_accuracy: 0.0351\n",
      "Epoch 11: early stopping\n"
     ]
    }
   ],
   "source": [
    "# Compile the autoencoder model\n",
    "autoencoder.compile(metrics=['accuracy'], loss='mean_squared_error', optimizer='adam')\n",
    "\n",
    "# Train the model\n",
    "history = autoencoder.fit(\n",
    "    normal_train_data,\n",
    "    normal_train_data,\n",
    "    epochs=nb_epoch,\n",
    "    batch_size=batch_size,\n",
    "    shuffle=True,\n",
    "    validation_data=(test_data, test_data),\n",
    "    verbose=1,\n",
    "    callbacks=[cp, early_stop]\n",
    ").history"
   ]
  },
  {
   "cell_type": "code",
   "execution_count": 26,
   "id": "74e6c5bf",
   "metadata": {},
   "outputs": [
    {
     "data": {
      "image/png": "[encoded data removed]",
      "text/plain": [
       "<Figure size 640x480 with 1 Axes>"
      ]
     },
     "metadata": {},
     "output_type": "display_data"
    }
   ],
   "source": [
    "# Plot loss history\n",
    "plt.plot(history['loss'], linewidth=2, label='Train')\n",
    "plt.plot(history['val_loss'], linewidth=2, label='Test')\n",
    "plt.legend(loc='upper right')\n",
    "plt.title('Model Loss')\n",
    "plt.ylabel('Loss')\n",
    "plt.xlabel('Epoch')\n",
    "plt.show()\n"
   ]
  },
  {
   "cell_type": "code",
   "execution_count": 27,
   "id": "90bff7e6",
   "metadata": {},
   "outputs": [
    {
     "name": "stdout",
     "output_type": "stream",
     "text": [
      "1781/1781 [==============================] - 1s 588us/step\n"
     ]
    }
   ],
   "source": [
    "# Calculate reconstruction error and create a DataFrame\n",
    "test_x_predictions = autoencoder.predict(test_data)\n",
    "mse = np.mean(np.power(test_data - test_x_predictions, 2), axis=1)\n",
    "error_df = pd.DataFrame({'Reconstruction_error': mse, 'True_class': test_labels})\n",
    "\n"
   ]
  },
  {
   "cell_type": "code",
   "execution_count": 28,
   "id": "23a7f29d",
   "metadata": {},
   "outputs": [],
   "source": [
    "# Set a fixed threshold for anomaly detection\n",
    "threshold_fixed = 52\n",
    "pred_y = [1 if e > threshold_fixed else 0 for e in error_df.Reconstruction_error.values]\n",
    "error_df['pred'] = pred_y\n"
   ]
  },
  {
   "cell_type": "code",
   "execution_count": 29,
   "id": "5b14cc20",
   "metadata": {},
   "outputs": [
    {
     "data": {
      "image/png": "[encoded data removed]",
      "text/plain": [
       "<Figure size 400x400 with 2 Axes>"
      ]
     },
     "metadata": {},
     "output_type": "display_data"
    }
   ],
   "source": [
    "# Create and display a confusion matrix\n",
    "conf_matrix = confusion_matrix(error_df.True_class, pred_y)\n",
    "plt.figure(figsize=(4, 4))\n",
    "sns.heatmap(conf_matrix, xticklabels=LABELS, yticklabels=LABELS, annot=True, fmt=\"d\")\n",
    "plt.title(\"Confusion matrix\")\n",
    "plt.ylabel(\"True class\")\n",
    "plt.xlabel(\"Predicted class\")\n",
    "plt.show()"
   ]
  },
  {
   "cell_type": "code",
   "execution_count": 30,
   "id": "ac258a5d",
   "metadata": {},
   "outputs": [
    {
     "name": "stdout",
     "output_type": "stream",
     "text": [
      "Accuracy: 0.9981917769741231\n",
      "Recall: 0.0\n",
      "Precision: 0.0\n"
     ]
    },
    {
     "name": "stderr",
     "output_type": "stream",
     "text": [
      "C:\\ProgramData\\Anaconda3\\lib\\site-packages\\sklearn\\metrics\\_classification.py:1318: UndefinedMetricWarning: Precision is ill-defined and being set to 0.0 due to no predicted samples. Use `zero_division` parameter to control this behavior.\n",
      "  _warn_prf(average, modifier, msg_start, len(result))\n"
     ]
    }
   ],
   "source": [
    "# Print Accuracy, Precision, and Recall\n",
    "print(\"Accuracy:\", accuracy_score(error_df['True_class'], error_df['pred']))\n",
    "print(\"Recall:\", recall_score(error_df['True_class'], error_df['pred']))\n",
    "print(\"Precision:\", precision_score(error_df['True_class'], error_df['pred']))"
   ]
  },
  {
   "cell_type": "code",
   "execution_count": null,
   "id": "6190b3a1",
   "metadata": {},
   "outputs": [],
   "source": []
  }
 ],
 "metadata": {
  "kernelspec": {
   "display_name": "Python 3 (ipykernel)",
   "language": "python",
   "name": "python3"
  },
  "language_info": {
   "codemirror_mode": {
    "name": "ipython",
    "version": 3
   },
   "file_extension": ".py",
   "mimetype": "text/x-python",
   "name": "python",
   "nbconvert_exporter": "python",
   "pygments_lexer": "ipython3",
   "version": "3.9.13"
  }
 },
 "nbformat": 4,
 "nbformat_minor": 5
}
